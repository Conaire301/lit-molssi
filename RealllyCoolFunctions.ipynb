{
 "cells": [
  {
   "cell_type": "markdown",
   "metadata": {},
   "source": [
    "# Writing Functions"
   ]
  },
  {
   "cell_type": "code",
   "execution_count": 1,
   "metadata": {},
   "outputs": [],
   "source": [
    "#def function(parameters):\n",
    "# ** body of code **\n",
    "# return value_to_return"
   ]
  },
  {
   "cell_type": "code",
   "execution_count": null,
   "metadata": {},
   "outputs": [],
   "source": [
    "import numpy\n",
    "import os\n",
    "file=os.path.join('data','water.xyz')\n",
    "patrick=numpy.genfromtxt(fname=file, skip_header=2, dtype='unicode')\n",
    "mol=patrick[:,0]\n",
    "coords=patrick[:,1:]\n",
    "coords=coordinates.astype(numpy.float)"
   ]
  },
  {
   "cell_type": "code",
   "execution_count": 39,
   "metadata": {},
   "outputs": [],
   "source": [
    "def kyle (coords1, coords2):\n",
    "    xdist= coords1[0]-coords2[0]\n",
    "    ydist=coords1[1]-coords2[1]\n",
    "    zdist=coords1[2]-coords2[2]\n",
    "    jamesbondlength=numpy.sqrt(xdist**2 +ydist**2+zdist**2)\n",
    "    return jamesbondlength"
   ]
  },
  {
   "cell_type": "code",
   "execution_count": 22,
   "metadata": {},
   "outputs": [
    {
     "name": "stdout",
     "output_type": "stream",
     "text": [
      "O to H1 : 0.969\n",
      "O to H2 : 0.969\n"
     ]
    }
   ],
   "source": [
    "import numpy\n",
    "import os\n",
    "file=os.path.join('data','water.xyz')\n",
    "patrick=numpy.genfromtxt(fname=file, skip_header=2, dtype='unicode')\n",
    "mol=patrick[:,0]\n",
    "coords=patrick[:,1:]\n",
    "coords=coords.astype(numpy.float)\n",
    "atoms=len(mol)\n",
    "for start in range(0,atoms):\n",
    "    for end in range(0,atoms):\n",
    "        if start<end:\n",
    "            jamesbondlength=kyle(coords[start],coords[end])\n",
    "            if jamesbondlength >0 and jamesbondlength <=1.5:\n",
    "                print(F'{mol[start]} to {mol[end]} : {jamesbondlength:.3f}')"
   ]
  },
  {
   "cell_type": "code",
   "execution_count": 48,
   "metadata": {},
   "outputs": [],
   "source": [
    "#Weird little true/false thing whilst setting up a range\n",
    "def checkbond(atom_distance, mindist=0, maxdist=1.5):\n",
    "    \"\"\"\n",
    "    Gives a True/False answer whether a data is in a range\n",
    "    Input: Select your data, range min, range max (defaulted to 0, 1.5 respectively)\n",
    "    Output:True/False\n",
    "    \"\"\"\n",
    "    if atom_distance >mindist and atom_distance <=maxdist:\n",
    "        return True\n",
    "    else:\n",
    "        return False"
   ]
  },
  {
   "cell_type": "code",
   "execution_count": 55,
   "metadata": {},
   "outputs": [
    {
     "name": "stderr",
     "output_type": "stream",
     "text": [
      "usage: ipykernel_launcher.py [-h] xyz_file\n",
      "ipykernel_launcher.py: error: unrecognized arguments: -f\n"
     ]
    },
    {
     "ename": "SystemExit",
     "evalue": "2",
     "output_type": "error",
     "traceback": [
      "An exception has occurred, use %tb to see the full traceback.\n",
      "\u001b[1;31mSystemExit\u001b[0m\u001b[1;31m:\u001b[0m 2\n"
     ]
    },
    {
     "name": "stderr",
     "output_type": "stream",
     "text": [
      "D:\\anaconda3\\lib\\site-packages\\IPython\\core\\interactiveshell.py:3339: UserWarning: To exit: use 'exit', 'quit', or Ctrl-D.\n",
      "  warn(\"To exit: use 'exit', 'quit', or Ctrl-D.\", stacklevel=1)\n"
     ]
    }
   ],
   "source": [
    "import numpy\n",
    "import os\n",
    "import argparse\n",
    "def kyle (coords1, coords2):\n",
    "    xdist= coords1[0]-coords2[0]\n",
    "    ydist=coords1[1]-coords2[1]\n",
    "    zdist=coords1[2]-coords2[2]\n",
    "    jamesbondlength=numpy.sqrt(xdist**2 +ydist**2+zdist**2)\n",
    "    return jamesbondlength\n",
    "\n",
    "def checkbond(atom_distance, mindist=0, maxdist=1.5):\n",
    "    \"\"\"\n",
    "    Gives a True/False answer whether a data is in a range\n",
    "    Input: Select your data, range min, range max (defaulted to 0, 1.5 respectively)\n",
    "    Output:True/False\n",
    "    \"\"\"\n",
    "    if atom_distance >mindist and atom_distance <=maxdist:\n",
    "        return True\n",
    "    else:\n",
    "        return False\n",
    "parser= argparse.ArgumentParser(description=\"This script analyzes a user provided xyz file and outputs bonds\")\n",
    "parser.add_argument(\"xyz_file\", help=\"The file path for the xyz file to analyze\")\n",
    "args= parser.parse_args()\n",
    "\n",
    "file=args.xyz_file\n",
    "patrick=numpy.genfromtxt(fname=file, skip_header=2, dtype='unicode')\n",
    "mol=patrick[:,0]\n",
    "coords=patrick[:,1:]\n",
    "coords=coords.astype(numpy.float)\n",
    "atoms=len(mol)\n",
    "for start in range(0,atoms):\n",
    "    for end in range(0,atoms):\n",
    "        if start<end:\n",
    "            jamesbondlength=kyle(coords[start],coords[end])\n",
    "            if checkbond(jamesbondlength) is True:\n",
    "                print(F'{mol[start]} to {mol[end]} : {jamesbondlength:.3f}')"
   ]
  },
  {
   "cell_type": "code",
   "execution_count": null,
   "metadata": {},
   "outputs": [],
   "source": []
  }
 ],
 "metadata": {
  "kernelspec": {
   "display_name": "Python 3",
   "language": "python",
   "name": "python3"
  },
  "language_info": {
   "codemirror_mode": {
    "name": "ipython",
    "version": 3
   },
   "file_extension": ".py",
   "mimetype": "text/x-python",
   "name": "python",
   "nbconvert_exporter": "python",
   "pygments_lexer": "ipython3",
   "version": "3.7.6"
  }
 },
 "nbformat": 4,
 "nbformat_minor": 4
}
