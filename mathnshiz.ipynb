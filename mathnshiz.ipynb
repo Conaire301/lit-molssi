{
 "cells": [
  {
   "cell_type": "markdown",
   "metadata": {},
   "source": [
    "## BigChungus"
   ]
  },
  {
   "cell_type": "code",
   "execution_count": 2,
   "metadata": {},
   "outputs": [],
   "source": [
    "import numpy\n",
    "import os"
   ]
  },
  {
   "cell_type": "code",
   "execution_count": 3,
   "metadata": {},
   "outputs": [
    {
     "name": "stdout",
     "output_type": "stream",
     "text": [
      "data\\water.xyz\n"
     ]
    }
   ],
   "source": [
    "wherestheleakmaam=os.path.join('data','water.xyz')\n",
    "print(wherestheleakmaam)"
   ]
  },
  {
   "cell_type": "code",
   "execution_count": 4,
   "metadata": {},
   "outputs": [
    {
     "name": "stdout",
     "output_type": "stream",
     "text": [
      "[['O' '0.000000' '-0.007156' '0.965491']\n",
      " ['H1' '-0.000000' '0.001486' '-0.003471']\n",
      " ['H2' '0.000000' '0.931026' '1.207929']]\n"
     ]
    }
   ],
   "source": [
    "heylook=numpy.genfromtxt(fname=wherestheleakmaam, skip_header=2, dtype='unicode')\n",
    "print(heylook)"
   ]
  },
  {
   "cell_type": "code",
   "execution_count": 6,
   "metadata": {},
   "outputs": [
    {
     "name": "stdout",
     "output_type": "stream",
     "text": [
      "['O' 'H1' 'H2']\n",
      "[[ 0.       -0.007156  0.965491]\n",
      " [-0.        0.001486 -0.003471]\n",
      " [ 0.        0.931026  1.207929]]\n"
     ]
    }
   ],
   "source": [
    "atoms=heylook[:,0]\n",
    "coords=heylook[:,1:]\n",
    "bigboicoords=coords.astype(numpy.float)\n",
    "print(atoms)\n",
    "print(bigboicoords)"
   ]
  },
  {
   "cell_type": "code",
   "execution_count": 18,
   "metadata": {},
   "outputs": [
    {
     "name": "stdout",
     "output_type": "stream",
     "text": [
      "3\n",
      "O to H1 : 0.969\n",
      "O to H2 : 0.969\n"
     ]
    }
   ],
   "source": [
    "fuckjerry=len(atoms)\n",
    "print(fuckjerry)\n",
    "for start in range(0,fuckjerry):\n",
    "    for end in range(0,fuckjerry):\n",
    "        if start<end:\n",
    "            xdist= bigboicoords[start,0]-bigboicoords[end,0]\n",
    "            ydist=bigboicoords[start,1]-bigboicoords[end,1]\n",
    "            zdist=bigboicoords[start,2]-bigboicoords[end,2]\n",
    "            jamesbondlength=numpy.sqrt(xdist**2+ydist**2+zdist**2)\n",
    "            if jamesbondlength >0 and jamesbondlength <=1.5:\n",
    "                print(F'{atoms[start]} to {atoms[end]} : {jamesbondlength:.3f}')"
   ]
  }
 ],
 "metadata": {
  "kernelspec": {
   "display_name": "Python 3",
   "language": "python",
   "name": "python3"
  },
  "language_info": {
   "codemirror_mode": {
    "name": "ipython",
    "version": 3
   },
   "file_extension": ".py",
   "mimetype": "text/x-python",
   "name": "python",
   "nbconvert_exporter": "python",
   "pygments_lexer": "ipython3",
   "version": "3.7.6"
  }
 },
 "nbformat": 4,
 "nbformat_minor": 4
}
