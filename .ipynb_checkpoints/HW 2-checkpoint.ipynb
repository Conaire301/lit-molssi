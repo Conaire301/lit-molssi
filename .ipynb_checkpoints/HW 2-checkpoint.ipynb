{
 "cells": [
  {
   "cell_type": "code",
   "execution_count": 24,
   "metadata": {},
   "outputs": [],
   "source": [
    "import os\n",
    "import numpy as np"
   ]
  },
  {
   "cell_type": "code",
   "execution_count": 80,
   "metadata": {},
   "outputs": [
    {
     "name": "stdout",
     "output_type": "stream",
     "text": [
      "O to H1 : 0.969\n",
      "O to H2 : 0.969\n"
     ]
    }
   ],
   "source": [
    "#All put together\n",
    "water=os.path.join('data', 'water.xyz')\n",
    "distance= numpy.genfromtxt(fname=water, skip_header=2, dtype='unicode')\n",
    "molecule=distance[:,1:]\n",
    "molecule= molecule.astype(numpy.float)\n",
    "mol=distance[:,0]\n",
    "atoms=len(mol)\n",
    "for start in range(0,atoms):\n",
    "    for end in range(0,atoms):\n",
    "        #Eliminates Duplicates\n",
    "        if start<end:\n",
    "            xdist=molecule[start,0]-molecule[end,0]\n",
    "            ydist=molecule[start,1]-molecule[end,1]\n",
    "            zdist=molecule[start,2]-molecule[end,2]\n",
    "            bondlength=numpy.sqrt(xdist**2+ydist**2+zdist**2)\n",
    "            #Eliminates distances outside min/max bond length\n",
    "            if bondlength >0 and bondlength <= 1.5:\n",
    "                print(F'{mol[start]} to {mol[end]} : {bondlength:.3f}')"
   ]
  },
  {
   "cell_type": "code",
   "execution_count": 85,
   "metadata": {},
   "outputs": [],
   "source": [
    "# Same Process, but prints the output into a new file\n",
    "filehandle= open('bonds.txt', 'w+')\n",
    "water=os.path.join('data', 'water.xyz')\n",
    "distance= numpy.genfromtxt(fname=water, skip_header=2, dtype='unicode')\n",
    "molecule=distance[:,1:]\n",
    "molecule= molecule.astype(numpy.float)\n",
    "mol=distance[:,0]\n",
    "atoms=len(mol)\n",
    "for start in range(0,atoms):\n",
    "    for end in range(0,atoms):\n",
    "        #Eliminates Duplicates\n",
    "        if start<end:\n",
    "            xdist=molecule[start,0]-molecule[end,0]\n",
    "            ydist=molecule[start,1]-molecule[end,1]\n",
    "            zdist=molecule[start,2]-molecule[end,2]\n",
    "            bondlength=numpy.sqrt(xdist**2+ydist**2+zdist**2)\n",
    "            #Eliminates distances outside min/max bond length\n",
    "            if bondlength >0 and bondlength <= 1.5:\n",
    "                filehandle.write(F'{mol[start]} to {mol[end]} \\t {bondlength:.3f}\\n')\n",
    "    \n",
    "filehandle.close()"
   ]
  },
  {
   "cell_type": "code",
   "execution_count": 44,
   "metadata": {},
   "outputs": [
    {
     "name": "stdout",
     "output_type": "stream",
     "text": [
      "[['O' '0.000000' '-0.007156' '0.965491']\n",
      " ['H1' '-0.000000' '0.001486' '-0.003471']\n",
      " ['H2' '0.000000' '0.931026' '1.207929']]\n"
     ]
    }
   ],
   "source": [
    "#Get to Data and make numpy array\n",
    "water=os.path.join('data', 'water.xyz')\n",
    "distance= numpy.genfromtxt(fname=water, skip_header=2, dtype='unicode')\n",
    "print(distance)"
   ]
  },
  {
   "cell_type": "code",
   "execution_count": 62,
   "metadata": {},
   "outputs": [
    {
     "name": "stdout",
     "output_type": "stream",
     "text": [
      "[[ 0.       -0.007156  0.965491]\n",
      " [-0.        0.001486 -0.003471]\n",
      " [ 0.        0.931026  1.207929]]\n"
     ]
    }
   ],
   "source": [
    "#Simplify array to just have molecule coordinates\n",
    "molecule=distance[:,1:]\n",
    "molecule= molecule.astype(numpy.float)\n",
    "print(molecule)\n",
    "\n"
   ]
  },
  {
   "cell_type": "code",
   "execution_count": 59,
   "metadata": {},
   "outputs": [
    {
     "name": "stdout",
     "output_type": "stream",
     "text": [
      "['O' 'H1' 'H2']\n",
      "3\n"
     ]
    }
   ],
   "source": [
    "mol=distance[:,0]\n",
    "atoms=len(mol)\n",
    "print(mol)\n",
    "print(atoms)\n"
   ]
  },
  {
   "cell_type": "code",
   "execution_count": 67,
   "metadata": {},
   "outputs": [
    {
     "name": "stdout",
     "output_type": "stream",
     "text": [
      "O to O : 0.0\n",
      "O to H1 : 0.0\n",
      "O to H2 : 0.0\n",
      "H1 to O : -0.0\n",
      "H1 to H1 : 0.0\n",
      "H1 to H2 : -0.0\n",
      "H2 to O : 0.0\n",
      "H2 to H1 : 0.0\n",
      "H2 to H2 : 0.0\n"
     ]
    }
   ],
   "source": [
    "for start in range(0,atoms):\n",
    "    for end in range(0,atoms):\n",
    "        xdist=molecule[start,0]-molecule[end,0]\n",
    "        ydist=molecule[start,1]-molecule[end,1]\n",
    "        zdist=molecule[start,2]-molecule[end,2]\n",
    "        print(F'{mol[start]} to {mol[end]} : {xdist}')\n",
    "\n"
   ]
  },
  {
   "cell_type": "code",
   "execution_count": null,
   "metadata": {},
   "outputs": [],
   "source": []
  }
 ],
 "metadata": {
  "kernelspec": {
   "display_name": "Python 3",
   "language": "python",
   "name": "python3"
  },
  "language_info": {
   "codemirror_mode": {
    "name": "ipython",
    "version": 3
   },
   "file_extension": ".py",
   "mimetype": "text/x-python",
   "name": "python",
   "nbconvert_exporter": "python",
   "pygments_lexer": "ipython3",
   "version": "3.7.6"
  }
 },
 "nbformat": 4,
 "nbformat_minor": 4
}
